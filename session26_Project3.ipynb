{
 "cells": [
  {
   "cell_type": "markdown",
   "metadata": {},
   "source": [
    "# Data Description:\n",
    "\n",
    "# Source\n",
    "* This data was extracted from the census bureau database found at\n",
    "* \n",
    "http://www.census.gov/ftp/pub/DES/www/welcome.html\n",
    "\n",
    "* Donor: Ronny Kohavi and Barry Becker,\n",
    "*        Data Mining and Visualization\n",
    "*        Silicon Graphics.\n",
    "*        e-mail: ronnyk@sgi.com for questions.\n",
    "\n",
    "# Distribution of Train and Test\n",
    "* Split into train-test using MLC++ GenCVFiles (2/3, 1/3 random).\n",
    "* 48842 instances, mix of continuous and discrete    (train=32561, test=16281)\n",
    "* 45222 if instances with unknown values are removed (train=30162, test=15060)\n",
    "\n",
    "* Duplicate or conflicting instances : 6\n",
    "\n",
    "# Class Probabilities\n",
    "\n",
    "* Class probabilities for adult.all file\n",
    "* Probability for the label '>50K'  : 23.93% / 24.78% (without unknowns)\n",
    "* Probability for the label '<=50K' : 76.07% / 75.22% (without unknowns)\n",
    "* Extraction was done by Barry Becker from the 1994 Census database.  A set of\n",
    "*   reasonably clean records was extracted using the following conditions:\n",
    "*   ((AAGE>16) && (AGI>100) && (AFNLWGT>1)&& (HRSWK>0))\n",
    "\n",
    "\n",
    "# Note: Prediction task is to determine whether a person makes over 50K a year.\n",
    "\n",
    "# Conversion of original data as follows:\n",
    "* 1. Discretized agrossincome into two ranges with threshold 50,000.\n",
    "* 2. Convert U.S. to US to avoid periods.\n",
    "* 3. Convert Unknown to \"?\"\n",
    "* 4. Run MLC++ GenCVFiles to generate data,test.\n",
    "\n",
    "\n",
    "# Description of fnlwgt (final weight)\n",
    "The weights on the CPS files are controlled to independent estimates of the civilian noninstitutional population of the US.  These are prepared monthly for us by Population Division here at the Census Bureau.  We use 3 sets of controls.\n",
    "*  These are:\n",
    "*          1.  A single cell estimate of the population 16+ for each state.\n",
    "*          2.  Controls for Hispanic Origin by age and sex.\n",
    "*          3.  Controls by Race, age and sex.\n",
    "\n",
    "\n",
    "> * We use all three sets of controls in our weighting program and \"rake\" through\n",
    "> * them 6 times so that by the end we come back to all the controls we used.\n",
    "\n",
    "> * The term estimate refers to population totals derived from CPS by creating\n",
    "> * \"weighted tallies\" of any specified socio-economic characteristics of the\n",
    "> * population.\n",
    "\n",
    "> * People with similar demographic characteristics should have\n",
    "* similar weights.  There is one important caveat to remember\n",
    "* about this statement.  That is that since the CPS sample is\n",
    "* actually a collection of 51 state samples, each with its own\n",
    "* probability of selection, the statement only applies within\n",
    "* state.\n"
   ]
  },
  {
   "cell_type": "markdown",
   "metadata": {},
   "source": [
    "# Dataset Link\n",
    "https://archive.ics.uci.edu/ml/machine-learning-databases/adult/\n",
    "# Problem 1:\n",
    "Prediction task is to determine whether a person makes over 50K a year.\n",
    "# Problem 2:\n",
    "Which factors are important\n",
    "# Problem 3:\n",
    "Which algorithms are best for this dataset"
   ]
  },
  {
   "cell_type": "code",
   "execution_count": 1,
   "metadata": {},
   "outputs": [],
   "source": [
    "#####################Import the packages \n",
    "import numpy as np\n",
    "import pandas as pd\n",
    "import matplotlib as mpl\n",
    "import matplotlib.pyplot as plt \n",
    "import seaborn as sn\n",
    "from sklearn import preprocessing, model_selection, svm\n",
    "from sklearn.linear_model import LogisticRegression\n",
    "from sklearn.preprocessing import StandardScaler\n",
    "from sklearn.metrics import confusion_matrix, classification_report\n",
    "%matplotlib inline\n"
   ]
  },
  {
   "cell_type": "code",
   "execution_count": 2,
   "metadata": {},
   "outputs": [],
   "source": [
    "# Importing the database"
   ]
  },
  {
   "cell_type": "code",
   "execution_count": 3,
   "metadata": {},
   "outputs": [
    {
     "name": "stdout",
     "output_type": "stream",
     "text": [
      "<class 'pandas.core.frame.DataFrame'>\n",
      "RangeIndex: 32561 entries, 0 to 32560\n",
      "Data columns (total 15 columns):\n",
      "age               32561 non-null int64\n",
      "workclass         32561 non-null object\n",
      "fnlwgt            32561 non-null int64\n",
      "education         32561 non-null object\n",
      "education_num     32561 non-null int64\n",
      "marital_status    32561 non-null object\n",
      "occupation        32561 non-null object\n",
      "relationship      32561 non-null object\n",
      "race              32561 non-null object\n",
      "sex               32561 non-null object\n",
      "capital_gain      32561 non-null int64\n",
      "capital_loss      32561 non-null int64\n",
      "hours_per_week    32561 non-null int64\n",
      "native_country    32561 non-null object\n",
      "wage_class        32561 non-null object\n",
      "dtypes: int64(6), object(9)\n",
      "memory usage: 3.7+ MB\n"
     ]
    }
   ],
   "source": [
    "col_labels = ['age', 'workclass', 'fnlwgt', 'education', 'education_num', 'marital_status', 'occupation','relationship', 'race', 'sex', 'capital_gain', 'capital_loss', 'hours_per_week', 'native_country', 'wage_class']\n",
    "\n",
    "train = pd.read_csv('http://archive.ics.uci.edu/ml/machine-learning-databases/adult/adult.data', names=col_labels)\n",
    "test = pd.read_csv('http://archive.ics.uci.edu/ml/machine-learning-databases/adult/adult.test', skiprows = 1, names=col_labels)\n",
    "train.info()"
   ]
  },
  {
   "cell_type": "code",
   "execution_count": 4,
   "metadata": {},
   "outputs": [],
   "source": [
    "# Clean the data"
   ]
  },
  {
   "cell_type": "code",
   "execution_count": 5,
   "metadata": {},
   "outputs": [
    {
     "data": {
      "text/html": [
       "<div>\n",
       "<style scoped>\n",
       "    .dataframe tbody tr th:only-of-type {\n",
       "        vertical-align: middle;\n",
       "    }\n",
       "\n",
       "    .dataframe tbody tr th {\n",
       "        vertical-align: top;\n",
       "    }\n",
       "\n",
       "    .dataframe thead th {\n",
       "        text-align: right;\n",
       "    }\n",
       "</style>\n",
       "<table border=\"1\" class=\"dataframe\">\n",
       "  <thead>\n",
       "    <tr style=\"text-align: right;\">\n",
       "      <th></th>\n",
       "      <th>age</th>\n",
       "      <th>workclass</th>\n",
       "      <th>fnlwgt</th>\n",
       "      <th>education</th>\n",
       "      <th>education_num</th>\n",
       "      <th>marital_status</th>\n",
       "      <th>occupation</th>\n",
       "      <th>relationship</th>\n",
       "      <th>race</th>\n",
       "      <th>sex</th>\n",
       "      <th>capital_gain</th>\n",
       "      <th>capital_loss</th>\n",
       "      <th>hours_per_week</th>\n",
       "      <th>native_country</th>\n",
       "      <th>wage_class</th>\n",
       "    </tr>\n",
       "  </thead>\n",
       "  <tbody>\n",
       "    <tr>\n",
       "      <th>0</th>\n",
       "      <td>39</td>\n",
       "      <td>State-gov</td>\n",
       "      <td>77516</td>\n",
       "      <td>Bachelors</td>\n",
       "      <td>13</td>\n",
       "      <td>Never-married</td>\n",
       "      <td>Adm-clerical</td>\n",
       "      <td>Not-in-family</td>\n",
       "      <td>White</td>\n",
       "      <td>Male</td>\n",
       "      <td>2174</td>\n",
       "      <td>0</td>\n",
       "      <td>40</td>\n",
       "      <td>United-States</td>\n",
       "      <td>0</td>\n",
       "    </tr>\n",
       "    <tr>\n",
       "      <th>1</th>\n",
       "      <td>50</td>\n",
       "      <td>Self-emp-not-inc</td>\n",
       "      <td>83311</td>\n",
       "      <td>Bachelors</td>\n",
       "      <td>13</td>\n",
       "      <td>Married-civ-spouse</td>\n",
       "      <td>Exec-managerial</td>\n",
       "      <td>Husband</td>\n",
       "      <td>White</td>\n",
       "      <td>Male</td>\n",
       "      <td>0</td>\n",
       "      <td>0</td>\n",
       "      <td>13</td>\n",
       "      <td>United-States</td>\n",
       "      <td>0</td>\n",
       "    </tr>\n",
       "    <tr>\n",
       "      <th>2</th>\n",
       "      <td>38</td>\n",
       "      <td>Private</td>\n",
       "      <td>215646</td>\n",
       "      <td>HS-grad</td>\n",
       "      <td>9</td>\n",
       "      <td>Divorced</td>\n",
       "      <td>Handlers-cleaners</td>\n",
       "      <td>Not-in-family</td>\n",
       "      <td>White</td>\n",
       "      <td>Male</td>\n",
       "      <td>0</td>\n",
       "      <td>0</td>\n",
       "      <td>40</td>\n",
       "      <td>United-States</td>\n",
       "      <td>0</td>\n",
       "    </tr>\n",
       "    <tr>\n",
       "      <th>3</th>\n",
       "      <td>53</td>\n",
       "      <td>Private</td>\n",
       "      <td>234721</td>\n",
       "      <td>11th</td>\n",
       "      <td>7</td>\n",
       "      <td>Married-civ-spouse</td>\n",
       "      <td>Handlers-cleaners</td>\n",
       "      <td>Husband</td>\n",
       "      <td>Black</td>\n",
       "      <td>Male</td>\n",
       "      <td>0</td>\n",
       "      <td>0</td>\n",
       "      <td>40</td>\n",
       "      <td>United-States</td>\n",
       "      <td>0</td>\n",
       "    </tr>\n",
       "    <tr>\n",
       "      <th>4</th>\n",
       "      <td>28</td>\n",
       "      <td>Private</td>\n",
       "      <td>338409</td>\n",
       "      <td>Bachelors</td>\n",
       "      <td>13</td>\n",
       "      <td>Married-civ-spouse</td>\n",
       "      <td>Prof-specialty</td>\n",
       "      <td>Wife</td>\n",
       "      <td>Black</td>\n",
       "      <td>Female</td>\n",
       "      <td>0</td>\n",
       "      <td>0</td>\n",
       "      <td>40</td>\n",
       "      <td>Cuba</td>\n",
       "      <td>0</td>\n",
       "    </tr>\n",
       "  </tbody>\n",
       "</table>\n",
       "</div>"
      ],
      "text/plain": [
       "   age          workclass  fnlwgt   education  education_num  \\\n",
       "0   39          State-gov   77516   Bachelors             13   \n",
       "1   50   Self-emp-not-inc   83311   Bachelors             13   \n",
       "2   38            Private  215646     HS-grad              9   \n",
       "3   53            Private  234721        11th              7   \n",
       "4   28            Private  338409   Bachelors             13   \n",
       "\n",
       "        marital_status          occupation    relationship    race      sex  \\\n",
       "0        Never-married        Adm-clerical   Not-in-family   White     Male   \n",
       "1   Married-civ-spouse     Exec-managerial         Husband   White     Male   \n",
       "2             Divorced   Handlers-cleaners   Not-in-family   White     Male   \n",
       "3   Married-civ-spouse   Handlers-cleaners         Husband   Black     Male   \n",
       "4   Married-civ-spouse      Prof-specialty            Wife   Black   Female   \n",
       "\n",
       "   capital_gain  capital_loss  hours_per_week  native_country  wage_class  \n",
       "0          2174             0              40   United-States           0  \n",
       "1             0             0              13   United-States           0  \n",
       "2             0             0              40   United-States           0  \n",
       "3             0             0              40   United-States           0  \n",
       "4             0             0              40            Cuba           0  "
      ]
     },
     "execution_count": 5,
     "metadata": {},
     "output_type": "execute_result"
    }
   ],
   "source": [
    "df = pd.concat([train, test], axis=0)\n",
    "df['wage_class'] = df['wage_class'].apply(lambda x: 1 if x==' >50K' else 0)\n",
    "dff=df\n",
    "df.head()"
   ]
  },
  {
   "cell_type": "code",
   "execution_count": 6,
   "metadata": {},
   "outputs": [],
   "source": [
    "for col in df.columns:\n",
    "    if type(df[col][0]) == str:\n",
    "        print(\"Working on \" + col)\n",
    "        df[col] = df[col].apply(lambda val: val.replace(\" \",\"\"))"
   ]
  },
  {
   "cell_type": "code",
   "execution_count": 7,
   "metadata": {},
   "outputs": [
    {
     "name": "stdout",
     "output_type": "stream",
     "text": [
      "<class 'pandas.core.frame.DataFrame'>\n",
      "Int64Index: 48842 entries, 0 to 16280\n",
      "Data columns (total 15 columns):\n",
      "age               48842 non-null int64\n",
      "workclass         48842 non-null object\n",
      "fnlwgt            48842 non-null int64\n",
      "education         48842 non-null object\n",
      "education_num     48842 non-null int64\n",
      "marital_status    48842 non-null object\n",
      "occupation        48842 non-null object\n",
      "relationship      48842 non-null object\n",
      "race              48842 non-null object\n",
      "sex               48842 non-null object\n",
      "capital_gain      48842 non-null int64\n",
      "capital_loss      48842 non-null int64\n",
      "hours_per_week    48842 non-null int64\n",
      "native_country    48842 non-null object\n",
      "wage_class        48842 non-null int64\n",
      "dtypes: int64(7), object(8)\n",
      "memory usage: 7.2+ MB\n"
     ]
    }
   ],
   "source": [
    "df.info()"
   ]
  },
  {
   "cell_type": "code",
   "execution_count": 8,
   "metadata": {},
   "outputs": [
    {
     "data": {
      "text/plain": [
       "Index(['age', 'workclass', 'fnlwgt', 'education', 'education_num',\n",
       "       'marital_status', 'occupation', 'relationship', 'race', 'sex',\n",
       "       'capital_gain', 'capital_loss', 'hours_per_week', 'native_country',\n",
       "       'wage_class'],\n",
       "      dtype='object')"
      ]
     },
     "execution_count": 8,
     "metadata": {},
     "output_type": "execute_result"
    }
   ],
   "source": [
    "df.columns"
   ]
  },
  {
   "cell_type": "code",
   "execution_count": 9,
   "metadata": {},
   "outputs": [],
   "source": [
    "####################REMOVE UNKNOWNS\n",
    "    \n",
    "df.replace(' ?', np.nan, inplace=True) ###making copy for visualization"
   ]
  },
  {
   "cell_type": "code",
   "execution_count": 10,
   "metadata": {},
   "outputs": [],
   "source": [
    "# remove no effect columns"
   ]
  },
  {
   "cell_type": "markdown",
   "metadata": {},
   "source": [
    "Some of the variables are not self-explanatory. The continuous variable fnlwgt represents final weight, which is the number of units in the target population that the responding unit represents. The variable education_num stands for the number of years of education in total, which is a continuous representation of the discrete variable education. The variable relationship represents the responding unit’s role in the family.  capital_gain and capital_loss are income from investment sources other than wage/salary.\n",
    "\n",
    "For simplicity of this analysis, the weighting factor is discarded. Total number of years of education can represent by the highest education level completed. Role in the family can be assessed from gender and marital status. Thus, the following 3 variables are deleted education,  relationship, and fnlwgt."
   ]
  },
  {
   "cell_type": "code",
   "execution_count": 11,
   "metadata": {},
   "outputs": [],
   "source": [
    "df.drop('relationship',axis=1,inplace=True)\n",
    "df.drop('fnlwgt',axis=1,inplace=True)\n",
    "df.drop('education',axis=1,inplace=True)"
   ]
  },
  {
   "cell_type": "code",
   "execution_count": 12,
   "metadata": {},
   "outputs": [
    {
     "data": {
      "text/plain": [
       "(48842, 12)"
      ]
     },
     "execution_count": 12,
     "metadata": {},
     "output_type": "execute_result"
    }
   ],
   "source": [
    "df.shape"
   ]
  },
  {
   "cell_type": "code",
   "execution_count": 13,
   "metadata": {},
   "outputs": [],
   "source": [
    "#################### Converting to int"
   ]
  },
  {
   "cell_type": "code",
   "execution_count": 14,
   "metadata": {},
   "outputs": [],
   "source": [
    "df = pd.concat([df, pd.get_dummies(df['workclass'],prefix='workclass',prefix_sep=':')], axis=1)\n",
    "df.drop('workclass',axis=1,inplace=True)\n",
    "\n",
    "df = pd.concat([df, pd.get_dummies(df['marital_status'],prefix='marital_status',prefix_sep=':')], axis=1)\n",
    "df.drop('marital_status',axis=1,inplace=True)\n",
    "\n",
    "df = pd.concat([df, pd.get_dummies(df['occupation'],prefix='occupation',prefix_sep=':')], axis=1)\n",
    "df.drop('occupation',axis=1,inplace=True)\n",
    "\n",
    "df = pd.concat([df, pd.get_dummies(df['race'],prefix='race',prefix_sep=':')], axis=1)\n",
    "df.drop('race',axis=1,inplace=True)\n",
    "\n",
    "df = pd.concat([df, pd.get_dummies(df['sex'],prefix='sex',prefix_sep=':')], axis=1)\n",
    "df.drop('sex',axis=1,inplace=True)\n",
    "\n",
    "df = pd.concat([df, pd.get_dummies(df['native_country'],prefix='native_country',prefix_sep=':')], axis=1)\n",
    "df.drop('native_country',axis=1,inplace=True)\n"
   ]
  },
  {
   "cell_type": "code",
   "execution_count": 15,
   "metadata": {},
   "outputs": [
    {
     "data": {
      "text/plain": [
       "(48842, 83)"
      ]
     },
     "execution_count": 15,
     "metadata": {},
     "output_type": "execute_result"
    }
   ],
   "source": [
    "df.shape"
   ]
  },
  {
   "cell_type": "code",
   "execution_count": 16,
   "metadata": {},
   "outputs": [
    {
     "name": "stdout",
     "output_type": "stream",
     "text": [
      "<class 'pandas.core.frame.DataFrame'>\n",
      "Int64Index: 48842 entries, 0 to 16280\n",
      "Data columns (total 83 columns):\n",
      "age                                           48842 non-null int64\n",
      "education_num                                 48842 non-null int64\n",
      "capital_gain                                  48842 non-null int64\n",
      "capital_loss                                  48842 non-null int64\n",
      "hours_per_week                                48842 non-null int64\n",
      "wage_class                                    48842 non-null int64\n",
      "workclass: Federal-gov                        48842 non-null uint8\n",
      "workclass: Local-gov                          48842 non-null uint8\n",
      "workclass: Never-worked                       48842 non-null uint8\n",
      "workclass: Private                            48842 non-null uint8\n",
      "workclass: Self-emp-inc                       48842 non-null uint8\n",
      "workclass: Self-emp-not-inc                   48842 non-null uint8\n",
      "workclass: State-gov                          48842 non-null uint8\n",
      "workclass: Without-pay                        48842 non-null uint8\n",
      "marital_status: Divorced                      48842 non-null uint8\n",
      "marital_status: Married-AF-spouse             48842 non-null uint8\n",
      "marital_status: Married-civ-spouse            48842 non-null uint8\n",
      "marital_status: Married-spouse-absent         48842 non-null uint8\n",
      "marital_status: Never-married                 48842 non-null uint8\n",
      "marital_status: Separated                     48842 non-null uint8\n",
      "marital_status: Widowed                       48842 non-null uint8\n",
      "occupation: Adm-clerical                      48842 non-null uint8\n",
      "occupation: Armed-Forces                      48842 non-null uint8\n",
      "occupation: Craft-repair                      48842 non-null uint8\n",
      "occupation: Exec-managerial                   48842 non-null uint8\n",
      "occupation: Farming-fishing                   48842 non-null uint8\n",
      "occupation: Handlers-cleaners                 48842 non-null uint8\n",
      "occupation: Machine-op-inspct                 48842 non-null uint8\n",
      "occupation: Other-service                     48842 non-null uint8\n",
      "occupation: Priv-house-serv                   48842 non-null uint8\n",
      "occupation: Prof-specialty                    48842 non-null uint8\n",
      "occupation: Protective-serv                   48842 non-null uint8\n",
      "occupation: Sales                             48842 non-null uint8\n",
      "occupation: Tech-support                      48842 non-null uint8\n",
      "occupation: Transport-moving                  48842 non-null uint8\n",
      "race: Amer-Indian-Eskimo                      48842 non-null uint8\n",
      "race: Asian-Pac-Islander                      48842 non-null uint8\n",
      "race: Black                                   48842 non-null uint8\n",
      "race: Other                                   48842 non-null uint8\n",
      "race: White                                   48842 non-null uint8\n",
      "sex: Female                                   48842 non-null uint8\n",
      "sex: Male                                     48842 non-null uint8\n",
      "native_country: Cambodia                      48842 non-null uint8\n",
      "native_country: Canada                        48842 non-null uint8\n",
      "native_country: China                         48842 non-null uint8\n",
      "native_country: Columbia                      48842 non-null uint8\n",
      "native_country: Cuba                          48842 non-null uint8\n",
      "native_country: Dominican-Republic            48842 non-null uint8\n",
      "native_country: Ecuador                       48842 non-null uint8\n",
      "native_country: El-Salvador                   48842 non-null uint8\n",
      "native_country: England                       48842 non-null uint8\n",
      "native_country: France                        48842 non-null uint8\n",
      "native_country: Germany                       48842 non-null uint8\n",
      "native_country: Greece                        48842 non-null uint8\n",
      "native_country: Guatemala                     48842 non-null uint8\n",
      "native_country: Haiti                         48842 non-null uint8\n",
      "native_country: Holand-Netherlands            48842 non-null uint8\n",
      "native_country: Honduras                      48842 non-null uint8\n",
      "native_country: Hong                          48842 non-null uint8\n",
      "native_country: Hungary                       48842 non-null uint8\n",
      "native_country: India                         48842 non-null uint8\n",
      "native_country: Iran                          48842 non-null uint8\n",
      "native_country: Ireland                       48842 non-null uint8\n",
      "native_country: Italy                         48842 non-null uint8\n",
      "native_country: Jamaica                       48842 non-null uint8\n",
      "native_country: Japan                         48842 non-null uint8\n",
      "native_country: Laos                          48842 non-null uint8\n",
      "native_country: Mexico                        48842 non-null uint8\n",
      "native_country: Nicaragua                     48842 non-null uint8\n",
      "native_country: Outlying-US(Guam-USVI-etc)    48842 non-null uint8\n",
      "native_country: Peru                          48842 non-null uint8\n",
      "native_country: Philippines                   48842 non-null uint8\n",
      "native_country: Poland                        48842 non-null uint8\n",
      "native_country: Portugal                      48842 non-null uint8\n",
      "native_country: Puerto-Rico                   48842 non-null uint8\n",
      "native_country: Scotland                      48842 non-null uint8\n",
      "native_country: South                         48842 non-null uint8\n",
      "native_country: Taiwan                        48842 non-null uint8\n",
      "native_country: Thailand                      48842 non-null uint8\n",
      "native_country: Trinadad&Tobago               48842 non-null uint8\n",
      "native_country: United-States                 48842 non-null uint8\n",
      "native_country: Vietnam                       48842 non-null uint8\n",
      "native_country: Yugoslavia                    48842 non-null uint8\n",
      "dtypes: int64(6), uint8(77)\n",
      "memory usage: 7.4 MB\n"
     ]
    }
   ],
   "source": [
    "df.info()"
   ]
  },
  {
   "cell_type": "code",
   "execution_count": 17,
   "metadata": {},
   "outputs": [
    {
     "data": {
      "text/html": [
       "<div>\n",
       "<style scoped>\n",
       "    .dataframe tbody tr th:only-of-type {\n",
       "        vertical-align: middle;\n",
       "    }\n",
       "\n",
       "    .dataframe tbody tr th {\n",
       "        vertical-align: top;\n",
       "    }\n",
       "\n",
       "    .dataframe thead th {\n",
       "        text-align: right;\n",
       "    }\n",
       "</style>\n",
       "<table border=\"1\" class=\"dataframe\">\n",
       "  <thead>\n",
       "    <tr style=\"text-align: right;\">\n",
       "      <th></th>\n",
       "      <th>age</th>\n",
       "      <th>education_num</th>\n",
       "      <th>capital_gain</th>\n",
       "      <th>capital_loss</th>\n",
       "      <th>hours_per_week</th>\n",
       "      <th>wage_class</th>\n",
       "      <th>workclass: Federal-gov</th>\n",
       "      <th>workclass: Local-gov</th>\n",
       "      <th>workclass: Never-worked</th>\n",
       "      <th>workclass: Private</th>\n",
       "      <th>...</th>\n",
       "      <th>native_country: Portugal</th>\n",
       "      <th>native_country: Puerto-Rico</th>\n",
       "      <th>native_country: Scotland</th>\n",
       "      <th>native_country: South</th>\n",
       "      <th>native_country: Taiwan</th>\n",
       "      <th>native_country: Thailand</th>\n",
       "      <th>native_country: Trinadad&amp;Tobago</th>\n",
       "      <th>native_country: United-States</th>\n",
       "      <th>native_country: Vietnam</th>\n",
       "      <th>native_country: Yugoslavia</th>\n",
       "    </tr>\n",
       "  </thead>\n",
       "  <tbody>\n",
       "    <tr>\n",
       "      <th>0</th>\n",
       "      <td>39</td>\n",
       "      <td>13</td>\n",
       "      <td>2174</td>\n",
       "      <td>0</td>\n",
       "      <td>40</td>\n",
       "      <td>0</td>\n",
       "      <td>0</td>\n",
       "      <td>0</td>\n",
       "      <td>0</td>\n",
       "      <td>0</td>\n",
       "      <td>...</td>\n",
       "      <td>0</td>\n",
       "      <td>0</td>\n",
       "      <td>0</td>\n",
       "      <td>0</td>\n",
       "      <td>0</td>\n",
       "      <td>0</td>\n",
       "      <td>0</td>\n",
       "      <td>1</td>\n",
       "      <td>0</td>\n",
       "      <td>0</td>\n",
       "    </tr>\n",
       "    <tr>\n",
       "      <th>1</th>\n",
       "      <td>50</td>\n",
       "      <td>13</td>\n",
       "      <td>0</td>\n",
       "      <td>0</td>\n",
       "      <td>13</td>\n",
       "      <td>0</td>\n",
       "      <td>0</td>\n",
       "      <td>0</td>\n",
       "      <td>0</td>\n",
       "      <td>0</td>\n",
       "      <td>...</td>\n",
       "      <td>0</td>\n",
       "      <td>0</td>\n",
       "      <td>0</td>\n",
       "      <td>0</td>\n",
       "      <td>0</td>\n",
       "      <td>0</td>\n",
       "      <td>0</td>\n",
       "      <td>1</td>\n",
       "      <td>0</td>\n",
       "      <td>0</td>\n",
       "    </tr>\n",
       "    <tr>\n",
       "      <th>2</th>\n",
       "      <td>38</td>\n",
       "      <td>9</td>\n",
       "      <td>0</td>\n",
       "      <td>0</td>\n",
       "      <td>40</td>\n",
       "      <td>0</td>\n",
       "      <td>0</td>\n",
       "      <td>0</td>\n",
       "      <td>0</td>\n",
       "      <td>1</td>\n",
       "      <td>...</td>\n",
       "      <td>0</td>\n",
       "      <td>0</td>\n",
       "      <td>0</td>\n",
       "      <td>0</td>\n",
       "      <td>0</td>\n",
       "      <td>0</td>\n",
       "      <td>0</td>\n",
       "      <td>1</td>\n",
       "      <td>0</td>\n",
       "      <td>0</td>\n",
       "    </tr>\n",
       "    <tr>\n",
       "      <th>3</th>\n",
       "      <td>53</td>\n",
       "      <td>7</td>\n",
       "      <td>0</td>\n",
       "      <td>0</td>\n",
       "      <td>40</td>\n",
       "      <td>0</td>\n",
       "      <td>0</td>\n",
       "      <td>0</td>\n",
       "      <td>0</td>\n",
       "      <td>1</td>\n",
       "      <td>...</td>\n",
       "      <td>0</td>\n",
       "      <td>0</td>\n",
       "      <td>0</td>\n",
       "      <td>0</td>\n",
       "      <td>0</td>\n",
       "      <td>0</td>\n",
       "      <td>0</td>\n",
       "      <td>1</td>\n",
       "      <td>0</td>\n",
       "      <td>0</td>\n",
       "    </tr>\n",
       "    <tr>\n",
       "      <th>4</th>\n",
       "      <td>28</td>\n",
       "      <td>13</td>\n",
       "      <td>0</td>\n",
       "      <td>0</td>\n",
       "      <td>40</td>\n",
       "      <td>0</td>\n",
       "      <td>0</td>\n",
       "      <td>0</td>\n",
       "      <td>0</td>\n",
       "      <td>1</td>\n",
       "      <td>...</td>\n",
       "      <td>0</td>\n",
       "      <td>0</td>\n",
       "      <td>0</td>\n",
       "      <td>0</td>\n",
       "      <td>0</td>\n",
       "      <td>0</td>\n",
       "      <td>0</td>\n",
       "      <td>0</td>\n",
       "      <td>0</td>\n",
       "      <td>0</td>\n",
       "    </tr>\n",
       "  </tbody>\n",
       "</table>\n",
       "<p>5 rows × 83 columns</p>\n",
       "</div>"
      ],
      "text/plain": [
       "   age  education_num  capital_gain  capital_loss  hours_per_week  wage_class  \\\n",
       "0   39             13          2174             0              40           0   \n",
       "1   50             13             0             0              13           0   \n",
       "2   38              9             0             0              40           0   \n",
       "3   53              7             0             0              40           0   \n",
       "4   28             13             0             0              40           0   \n",
       "\n",
       "   workclass: Federal-gov  workclass: Local-gov  workclass: Never-worked  \\\n",
       "0                       0                     0                        0   \n",
       "1                       0                     0                        0   \n",
       "2                       0                     0                        0   \n",
       "3                       0                     0                        0   \n",
       "4                       0                     0                        0   \n",
       "\n",
       "   workclass: Private             ...              native_country: Portugal  \\\n",
       "0                   0             ...                                     0   \n",
       "1                   0             ...                                     0   \n",
       "2                   1             ...                                     0   \n",
       "3                   1             ...                                     0   \n",
       "4                   1             ...                                     0   \n",
       "\n",
       "   native_country: Puerto-Rico  native_country: Scotland  \\\n",
       "0                            0                         0   \n",
       "1                            0                         0   \n",
       "2                            0                         0   \n",
       "3                            0                         0   \n",
       "4                            0                         0   \n",
       "\n",
       "   native_country: South  native_country: Taiwan  native_country: Thailand  \\\n",
       "0                      0                       0                         0   \n",
       "1                      0                       0                         0   \n",
       "2                      0                       0                         0   \n",
       "3                      0                       0                         0   \n",
       "4                      0                       0                         0   \n",
       "\n",
       "   native_country: Trinadad&Tobago  native_country: United-States  \\\n",
       "0                                0                              1   \n",
       "1                                0                              1   \n",
       "2                                0                              1   \n",
       "3                                0                              1   \n",
       "4                                0                              0   \n",
       "\n",
       "   native_country: Vietnam  native_country: Yugoslavia  \n",
       "0                        0                           0  \n",
       "1                        0                           0  \n",
       "2                        0                           0  \n",
       "3                        0                           0  \n",
       "4                        0                           0  \n",
       "\n",
       "[5 rows x 83 columns]"
      ]
     },
     "execution_count": 17,
     "metadata": {},
     "output_type": "execute_result"
    }
   ],
   "source": [
    "df.head()"
   ]
  },
  {
   "cell_type": "code",
   "execution_count": 18,
   "metadata": {},
   "outputs": [
    {
     "name": "stderr",
     "output_type": "stream",
     "text": [
      "C:\\Users\\disiz\\Anaconda3\\lib\\site-packages\\sklearn\\utils\\validation.py:475: DataConversionWarning: Data with input dtype int64 was converted to float64 by the scale function.\n",
      "  warnings.warn(msg, DataConversionWarning)\n"
     ]
    }
   ],
   "source": [
    "########### Preparing data for Training and testing \n",
    "\n",
    "X = np.array(df.drop(['wage_class'], 1))\n",
    "y = np.array(df['wage_class'])\n",
    "X = preprocessing.scale(X)\n",
    "y = np.array(df['wage_class'])\n",
    "\n",
    "\n",
    "#Splitting data as train and test data \n",
    "X_train, X_test, y_train, y_test = model_selection.train_test_split(X, y, test_size=0.2)"
   ]
  },
  {
   "cell_type": "markdown",
   "metadata": {},
   "source": [
    "# ML MODELS DEPLOY....1...2....3.....GO"
   ]
  },
  {
   "cell_type": "code",
   "execution_count": 19,
   "metadata": {},
   "outputs": [
    {
     "name": "stdout",
     "output_type": "stream",
     "text": [
      "[[5421 2740]\n",
      " [ 188 1420]]\n",
      "             precision    recall  f1-score   support\n",
      "\n",
      "          0       0.97      0.66      0.79      8161\n",
      "          1       0.34      0.88      0.49      1608\n",
      "\n",
      "avg / total       0.86      0.70      0.74      9769\n",
      "\n",
      "The Accuracy for Logistic Regression is 0.7002763844815232\n"
     ]
    }
   ],
   "source": [
    "#########LOGISTIC REGRESSION######################################################\n",
    "\n",
    "from sklearn.metrics import accuracy_score\n",
    "lrn = LogisticRegression(penalty = 'l1', C = .001, class_weight='balanced')\n",
    "\n",
    "lrn.fit(X_train, y_train)\n",
    "y_pred = lrn.predict(X_test)\n",
    "\n",
    "##########Results\n",
    "print(confusion_matrix(y_test,y_pred))\n",
    "print(classification_report(y_test,y_pred))\n",
    "LRA = accuracy_score(y_test, y_pred)\n",
    "print(\"The Accuracy for Logistic Regression is {}\".format(LRA))"
   ]
  },
  {
   "cell_type": "code",
   "execution_count": 20,
   "metadata": {},
   "outputs": [
    {
     "name": "stdout",
     "output_type": "stream",
     "text": [
      "[[7824  337]\n",
      " [1132  476]]\n",
      "             precision    recall  f1-score   support\n",
      "\n",
      "          0       0.87      0.96      0.91      8161\n",
      "          1       0.59      0.30      0.39      1608\n",
      "\n",
      "avg / total       0.83      0.85      0.83      9769\n",
      "\n",
      "The Accuracy for LDA is 0.8496263691268298\n"
     ]
    },
    {
     "name": "stderr",
     "output_type": "stream",
     "text": [
      "C:\\Users\\disiz\\Anaconda3\\lib\\site-packages\\sklearn\\discriminant_analysis.py:388: UserWarning: Variables are collinear.\n",
      "  warnings.warn(\"Variables are collinear.\")\n"
     ]
    }
   ],
   "source": [
    "################LDA Linear Discriminant Analysis \n",
    "from sklearn.discriminant_analysis import LinearDiscriminantAnalysis\n",
    "from sklearn import metrics\n",
    "\n",
    "\n",
    "clf = LinearDiscriminantAnalysis()\n",
    "clf.fit( X_train, y_train )\n",
    "tree_predict = clf.predict(X_test)\n",
    "metrics.accuracy_score( y_test, tree_predict )\n",
    "\n",
    "print(confusion_matrix(y_test,tree_predict))\n",
    "print(classification_report(y_test,tree_predict))\n",
    "LDA = accuracy_score(y_test, tree_predict)\n",
    "print(\"The Accuracy for LDA is {}\".format(LDA))"
   ]
  },
  {
   "cell_type": "code",
   "execution_count": 21,
   "metadata": {},
   "outputs": [
    {
     "name": "stdout",
     "output_type": "stream",
     "text": [
      "[[8070   91]\n",
      " [1448  160]]\n",
      "             precision    recall  f1-score   support\n",
      "\n",
      "          0       0.85      0.99      0.91      8161\n",
      "          1       0.64      0.10      0.17      1608\n",
      "\n",
      "avg / total       0.81      0.84      0.79      9769\n",
      "\n",
      "The Accuracy for Linear Regression is 0.8424608455317842\n"
     ]
    }
   ],
   "source": [
    "########################################LINEAR REGRESSION#######################\n",
    "\n",
    "from sklearn import linear_model\n",
    "from sklearn.metrics import accuracy_score\n",
    "\n",
    "lm = linear_model.LinearRegression()\n",
    "model = lm.fit(X_train, y_train)\n",
    "y_lmpre = lm.predict(X_test)\n",
    "\n",
    "ylm = np.around(y_lmpre)\n",
    "\n",
    "lm.score(X_train, y_train)\n",
    "lm.coef_\n",
    "lm.intercept_\n",
    "\n",
    "##########Results\n",
    "\n",
    "print(confusion_matrix(y_test,ylm))\n",
    "print(classification_report(y_test,ylm))\n",
    "\n",
    "LA = accuracy_score(y_test, ylm)\n",
    "print(\"The Accuracy for Linear Regression is {}\".format(LA))"
   ]
  },
  {
   "cell_type": "code",
   "execution_count": 22,
   "metadata": {},
   "outputs": [
    {
     "name": "stderr",
     "output_type": "stream",
     "text": [
      "C:\\Users\\disiz\\Anaconda3\\lib\\site-packages\\sklearn\\cross_validation.py:41: DeprecationWarning: This module was deprecated in version 0.18 in favor of the model_selection module into which all the refactored classes and functions are moved. Also note that the interface of the new CV iterators are different from that of this module. This module will be removed in 0.20.\n",
      "  \"This module will be removed in 0.20.\", DeprecationWarning)\n"
     ]
    },
    {
     "name": "stdout",
     "output_type": "stream",
     "text": [
      "[[7653  508]\n",
      " [1103  505]]\n",
      "             precision    recall  f1-score   support\n",
      "\n",
      "          0       0.87      0.94      0.90      8161\n",
      "          1       0.50      0.31      0.39      1608\n",
      "\n",
      "avg / total       0.81      0.84      0.82      9769\n",
      "\n",
      "The Accuracy for KNN is 0.8350905926911659\n"
     ]
    }
   ],
   "source": [
    "############################################## KNN ###############\n",
    "\n",
    "from sklearn import preprocessing, cross_validation, neighbors\n",
    "from sklearn.metrics import accuracy_score\n",
    "\n",
    "clf = neighbors.KNeighborsClassifier()\n",
    "\n",
    "clf.fit(X_train, y_train)\n",
    "\n",
    "knnpre = clf.predict(X_test)\n",
    "\n",
    "##########Results\n",
    "\n",
    "print(confusion_matrix(y_test,knnpre))\n",
    "print(classification_report(y_test,knnpre))\n",
    "KKNA = accuracy_score(y_test, knnpre)\n",
    "print(\"The Accuracy for KNN is {}\".format(KKNA))"
   ]
  },
  {
   "cell_type": "code",
   "execution_count": 23,
   "metadata": {},
   "outputs": [
    {
     "name": "stdout",
     "output_type": "stream",
     "text": [
      "[[7978  183]\n",
      " [1239  369]]\n",
      "             precision    recall  f1-score   support\n",
      "\n",
      "          0       0.87      0.98      0.92      8161\n",
      "          1       0.67      0.23      0.34      1608\n",
      "\n",
      "avg / total       0.83      0.85      0.82      9769\n",
      "\n",
      "The Accuracy for Decision Tree Model is 0.8544375063977889\n"
     ]
    }
   ],
   "source": [
    "################################ Decision tree ###########################################\n",
    "\n",
    "from sklearn.tree import DecisionTreeClassifier, export_graphviz, export\n",
    "from sklearn import metrics\n",
    "\n",
    "clf_tree = DecisionTreeClassifier( max_depth = 4 )\n",
    "\n",
    "clf_tree.fit( X_train, y_train )\n",
    "tree_predict = clf_tree.predict( X_test )\n",
    "metrics.accuracy_score( y_test, tree_predict )\n",
    "\n",
    "print(confusion_matrix(y_test,tree_predict))\n",
    "print(classification_report(y_test,tree_predict))\n",
    "DTA = accuracy_score(y_test, tree_predict)\n",
    "print(\"The Accuracy for Decision Tree Model is {}\".format(DTA))"
   ]
  },
  {
   "cell_type": "code",
   "execution_count": 24,
   "metadata": {},
   "outputs": [
    {
     "name": "stderr",
     "output_type": "stream",
     "text": [
      "C:\\Users\\disiz\\Anaconda3\\lib\\site-packages\\sklearn\\grid_search.py:42: DeprecationWarning: This module was deprecated in version 0.18 in favor of the model_selection module into which all the refactored classes and functions are moved. This module will be removed in 0.20.\n",
      "  DeprecationWarning)\n"
     ]
    },
    {
     "name": "stdout",
     "output_type": "stream",
     "text": [
      "[[8141   20]\n",
      " [1579   29]]\n",
      "             precision    recall  f1-score   support\n",
      "\n",
      "          0       0.84      1.00      0.91      8161\n",
      "          1       0.59      0.02      0.04      1608\n",
      "\n",
      "avg / total       0.80      0.84      0.77      9769\n",
      "\n",
      "The Accuracy for SVM is 0.8363189681646023\n"
     ]
    }
   ],
   "source": [
    "################################ SVM #####################################\n",
    "\n",
    "from sklearn.svm import SVC\n",
    "from sklearn.grid_search import GridSearchCV\n",
    "\n",
    "svc = SVC(C = 1.0, kernel = \"linear\" )\n",
    "svc.fit( X_train, y_train )\n",
    "svc_predict = svc.predict( X_test )\n",
    "\n",
    "print(confusion_matrix(y_test,svc_predict))\n",
    "print(classification_report(y_test,svc_predict))\n",
    "SVMA = accuracy_score(y_test, svc_predict)\n",
    "print(\"The Accuracy for SVM is {}\".format(SVMA))"
   ]
  },
  {
   "cell_type": "code",
   "execution_count": 25,
   "metadata": {},
   "outputs": [
    {
     "name": "stdout",
     "output_type": "stream",
     "text": [
      "[1 1 1 ... 1 0 1]\n",
      "[[ 668 7493]\n",
      " [  36 1572]]\n",
      "             precision    recall  f1-score   support\n",
      "\n",
      "          0       0.95      0.08      0.15      8161\n",
      "          1       0.17      0.98      0.29      1608\n",
      "\n",
      "avg / total       0.82      0.23      0.17      9769\n",
      "\n",
      "The Accuracy for NB is 0.22929675504145766\n"
     ]
    }
   ],
   "source": [
    "####################### NAIVE  #####################################\n",
    "\n",
    "from sklearn.naive_bayes import GaussianNB\n",
    "from sklearn import metrics\n",
    "from sklearn.metrics import accuracy_score\n",
    "\n",
    "model = GaussianNB()\n",
    "\n",
    "# Train the model using the training sets \n",
    "model.fit(X_train, y_train)\n",
    "\n",
    "#Predict Output \n",
    "naive_pre= model.predict(X_test)\n",
    "print (naive_pre)\n",
    "##result\n",
    "print(confusion_matrix(y_test,naive_pre))\n",
    "print(classification_report(y_test,naive_pre))\n",
    "NBA = accuracy_score(y_test, naive_pre)\n",
    "print(\"The Accuracy for NB is {}\".format(NBA))"
   ]
  },
  {
   "cell_type": "code",
   "execution_count": 26,
   "metadata": {},
   "outputs": [
    {
     "name": "stdout",
     "output_type": "stream",
     "text": [
      "[[5128 3033]\n",
      " [1365  243]]\n",
      "             precision    recall  f1-score   support\n",
      "\n",
      "          0       0.79      0.63      0.70      8161\n",
      "          1       0.07      0.15      0.10      1608\n",
      "\n",
      "avg / total       0.67      0.55      0.60      9769\n",
      "\n",
      "The Accuracy for kmeans is 0.5498003889855666\n"
     ]
    }
   ],
   "source": [
    "########################### KMEANS ###################################\n",
    "\n",
    "from sklearn import cluster\n",
    "k_means = cluster.KMeans(n_clusters=2)\n",
    "k_means.fit(X_train) \n",
    "labels = k_means.labels_\n",
    "centroids  = k_means.cluster_centers_.squeeze()\n",
    "labelspre = k_means.predict(X_test)\n",
    "print(confusion_matrix(y_test,labelspre))\n",
    "print(classification_report(y_test,labelspre))\n",
    "KmeanA = accuracy_score(y_test, labelspre)\n",
    "print(\"The Accuracy for kmeans is {}\".format(KmeanA))"
   ]
  },
  {
   "cell_type": "code",
   "execution_count": 27,
   "metadata": {},
   "outputs": [
    {
     "name": "stdout",
     "output_type": "stream",
     "text": [
      "Best: -0.292956 using {'learning_rate': 0.3}\n",
      "-0.687347 (0.000053) with: {'learning_rate': 0.0001}\n",
      "-0.639894 (0.000486) with: {'learning_rate': 0.001}\n",
      "-0.412262 (0.002780) with: {'learning_rate': 0.01}\n",
      "-0.298828 (0.003773) with: {'learning_rate': 0.1}\n",
      "-0.296188 (0.004063) with: {'learning_rate': 0.2}\n",
      "-0.292956 (0.004255) with: {'learning_rate': 0.3}\n"
     ]
    },
    {
     "data": {
      "image/png": "[encoded data removed]",
      "text/plain": [
       "<Figure size 432x288 with 1 Axes>"
      ]
     },
     "metadata": {},
     "output_type": "display_data"
    }
   ],
   "source": [
    "#######################XGB experiementing with learning rate\n",
    "#This code is to let algorithm figure out itself, which value for learning rate is best \n",
    "\n",
    "import xgboost as xgb\n",
    "from sklearn.model_selection import StratifiedKFold\n",
    "from sklearn.model_selection import GridSearchCV\n",
    "\n",
    "model = xgb.XGBClassifier()\n",
    "learning_rate = [0.0001, 0.001, 0.01, 0.1, 0.2, 0.3]\n",
    "param_grid = dict(learning_rate=learning_rate)\n",
    "kfold = StratifiedKFold(n_splits=10, shuffle=True, random_state=7)\n",
    "grid_search = GridSearchCV(model, param_grid, scoring=\"neg_log_loss\", n_jobs=-1, cv=kfold)\n",
    "grid_result = grid_search.fit(X_train, y_train)\n",
    "\n",
    "# summarize results\n",
    "print(\"Best: %f using %s\" % (grid_result.best_score_, grid_result.best_params_))\n",
    "means = grid_result.cv_results_['mean_test_score']\n",
    "stds = grid_result.cv_results_['std_test_score']\n",
    "params = grid_result.cv_results_['params']\n",
    "for mean, stdev, param in zip(means, stds, params):\n",
    "\tprint(\"%f (%f) with: %r\" % (mean, stdev, param))\n",
    "\n",
    "\n",
    " \n",
    "\n",
    "from matplotlib import pyplot\n",
    "# plot\n",
    "pyplot.errorbar(learning_rate, means, yerr=stds)\n",
    "pyplot.title(\"XGBoost learning_rate vs Log Loss\")\n",
    "pyplot.xlabel('learning_rate')\n",
    "pyplot.ylabel('Log Loss')\n",
    "pyplot.savefig('learning_rate.png')\n"
   ]
  },
  {
   "cell_type": "code",
   "execution_count": 29,
   "metadata": {},
   "outputs": [
    {
     "name": "stderr",
     "output_type": "stream",
     "text": [
      "C:\\Users\\disiz\\Anaconda3\\lib\\site-packages\\sklearn\\preprocessing\\label.py:151: DeprecationWarning: The truth value of an empty array is ambiguous. Returning False, but in future this will result in an error. Use `array.size > 0` to check that an array is not empty.\n",
      "  if diff:\n"
     ]
    },
    {
     "name": "stdout",
     "output_type": "stream",
     "text": [
      "training set auc: 0.8623195823523391\n",
      "test set auc: 0.8623195823523391\n",
      "{'base_score': 0.5, 'booster': 'gbtree', 'colsample_bylevel': 1, 'colsample_bytree': 1, 'gamma': 0, 'learning_rate': 0.1, 'max_delta_step': 0, 'max_depth': 5, 'min_child_weight': 4, 'missing': None, 'n_estimators': 500, 'n_jobs': 1, 'nthread': None, 'objective': 'binary:logistic', 'random_state': 0, 'reg_alpha': 0, 'reg_lambda': 1, 'scale_pos_weight': 1, 'seed': None, 'silent': True, 'subsample': 1}\n",
      "The Accuracy  is 0.8623195823523391\n"
     ]
    },
    {
     "name": "stderr",
     "output_type": "stream",
     "text": [
      "C:\\Users\\disiz\\Anaconda3\\lib\\site-packages\\sklearn\\preprocessing\\label.py:151: DeprecationWarning: The truth value of an empty array is ambiguous. Returning False, but in future this will result in an error. Use `array.size > 0` to check that an array is not empty.\n",
      "  if diff:\n"
     ]
    }
   ],
   "source": [
    "############# XGboost - Picking the best values for learning rate and estimators  \n",
    "\n",
    "import xgboost as xgb\n",
    "from sklearn.model_selection import StratifiedKFold\n",
    "from sklearn.model_selection import GridSearchCV\n",
    "model = xgb.XGBClassifier(learning_rate=0.1,\n",
    "                           n_estimators=500,\n",
    "                           max_depth=5,\n",
    "                           min_child_weight=4\n",
    "                           )\n",
    "final_m=model.fit(X_train, y_train)\n",
    "\n",
    "predictions = model.predict(X_test)\n",
    "print(\"training set auc:\",accuracy_score(y_test, predictions))\n",
    "predictions = model.predict(X_test)\n",
    "print(\"test set auc:\",accuracy_score(y_test, predictions))\n",
    "print(model.get_params())\n",
    "\n",
    "XGBA = accuracy_score(y_test, predictions)\n",
    "print(\"The Accuracy  is {}\".format(XGBA))"
   ]
  },
  {
   "cell_type": "code",
   "execution_count": 30,
   "metadata": {},
   "outputs": [],
   "source": [
    "#As you can see the max accuracy is achieved with XgBoost. "
   ]
  },
  {
   "cell_type": "code",
   "execution_count": 31,
   "metadata": {},
   "outputs": [
    {
     "name": "stdout",
     "output_type": "stream",
     "text": [
      "End of assignment\n"
     ]
    }
   ],
   "source": [
    "print(\"End of assignment\")"
   ]
  }
 ],
 "metadata": {
  "kernelspec": {
   "display_name": "Python 3",
   "language": "python",
   "name": "python3"
  },
  "language_info": {
   "codemirror_mode": {
    "name": "ipython",
    "version": 3
   },
   "file_extension": ".py",
   "mimetype": "text/x-python",
   "name": "python",
   "nbconvert_exporter": "python",
   "pygments_lexer": "ipython3",
   "version": "3.6.5"
  }
 },
 "nbformat": 4,
 "nbformat_minor": 2
}
